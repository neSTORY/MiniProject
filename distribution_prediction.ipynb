{
  "nbformat": 4,
  "nbformat_minor": 0,
  "metadata": {
    "colab": {
      "name": "distribution_prediction.ipynb",
      "provenance": [],
      "machine_shape": "hm",
      "mount_file_id": "1KejnHyDLzhLV8cGRviWlZovoqPtFyb4K",
      "authorship_tag": "ABX9TyOf3Mctf/OnEJopvGqXj0be",
      "include_colab_link": true
    },
    "kernelspec": {
      "name": "python3",
      "display_name": "Python 3"
    },
    "language_info": {
      "name": "python"
    },
    "accelerator": "GPU"
  },
  "cells": [
    {
      "cell_type": "markdown",
      "metadata": {
        "id": "view-in-github",
        "colab_type": "text"
      },
      "source": [
        "<a href=\"https://colab.research.google.com/github/neSTORY/MiniProject/blob/master/distribution_prediction.ipynb\" target=\"_parent\"><img src=\"https://colab.research.google.com/assets/colab-badge.svg\" alt=\"Open In Colab\"/></a>"
      ]
    },
    {
      "cell_type": "code",
      "source": [
        "# !sudo apt-get install -y fonts-nanum\n",
        "# !sudo fc-cache -fv\n",
        "# !rm ~/.cache/matplotlib -rf"
      ],
      "metadata": {
        "id": "I2H3dWoVNGog"
      },
      "execution_count": null,
      "outputs": []
    },
    {
      "cell_type": "code",
      "execution_count": null,
      "metadata": {
        "id": "0KaovutNTW8_"
      },
      "outputs": [],
      "source": [
        "import numpy as np\n",
        "import pandas as pd\n",
        "import matplotlib.pyplot as plt\n",
        "import seaborn as sns"
      ]
    },
    {
      "cell_type": "code",
      "source": [
        "import warnings\n",
        "warnings.filterwarnings('ignore')\n",
        "plt.rcParams['font.family'] = 'NanumGothic'"
      ],
      "metadata": {
        "id": "shWqYLnQMwOU"
      },
      "execution_count": null,
      "outputs": []
    },
    {
      "cell_type": "code",
      "source": [
        "# load dataset\n",
        "train = pd.read_csv(\"/content/drive/MyDrive/Colab Notebooks/dacon/distribution_prediction/data/train.csv\")\n",
        "test = pd.read_csv(\"/content/drive/MyDrive/Colab Notebooks/dacon/distribution_prediction/data/test.csv\")\n",
        "submission = pd.read_csv(\"/content/drive/MyDrive/Colab Notebooks/dacon/distribution_prediction/data/sample_submission.csv\")"
      ],
      "metadata": {
        "id": "pEu39psdpNdN"
      },
      "execution_count": null,
      "outputs": []
    },
    {
      "cell_type": "markdown",
      "source": [
        "## meta data\n",
        "- index : 인덱스\n",
        "- SEND_SPG_INNB : 송하인_격자공간고유번호\n",
        "- REC_SPG_INNB : 수하인 격자공간고유번호\n",
        "- DL_GD_LCLS_NM : 카테고리_대\n",
        "- DL_GD_MCLS_NM : 카테고리_중\n",
        "- INVC_CONT : 운송장 건 수\n"
      ],
      "metadata": {
        "id": "R150JDLppqif"
      }
    },
    {
      "cell_type": "code",
      "source": [
        "train.head(10)"
      ],
      "metadata": {
        "colab": {
          "base_uri": "https://localhost:8080/",
          "height": 363
        },
        "id": "LgAjacEBpa4w",
        "outputId": "1ca506d2-a802-4a9d-d3f6-b2b540f99a5e"
      },
      "execution_count": null,
      "outputs": [
        {
          "output_type": "execute_result",
          "data": {
            "text/html": [
              "<div>\n",
              "<style scoped>\n",
              "    .dataframe tbody tr th:only-of-type {\n",
              "        vertical-align: middle;\n",
              "    }\n",
              "\n",
              "    .dataframe tbody tr th {\n",
              "        vertical-align: top;\n",
              "    }\n",
              "\n",
              "    .dataframe thead th {\n",
              "        text-align: right;\n",
              "    }\n",
              "</style>\n",
              "<table border=\"1\" class=\"dataframe\">\n",
              "  <thead>\n",
              "    <tr style=\"text-align: right;\">\n",
              "      <th></th>\n",
              "      <th>index</th>\n",
              "      <th>SEND_SPG_INNB</th>\n",
              "      <th>REC_SPG_INNB</th>\n",
              "      <th>DL_GD_LCLS_NM</th>\n",
              "      <th>DL_GD_MCLS_NM</th>\n",
              "      <th>INVC_CONT</th>\n",
              "    </tr>\n",
              "  </thead>\n",
              "  <tbody>\n",
              "    <tr>\n",
              "      <th>0</th>\n",
              "      <td>0</td>\n",
              "      <td>1.129000e+15</td>\n",
              "      <td>5.011000e+15</td>\n",
              "      <td>패션의류</td>\n",
              "      <td>상의</td>\n",
              "      <td>3</td>\n",
              "    </tr>\n",
              "    <tr>\n",
              "      <th>1</th>\n",
              "      <td>1</td>\n",
              "      <td>1.135000e+15</td>\n",
              "      <td>5.011000e+15</td>\n",
              "      <td>생활/건강</td>\n",
              "      <td>반려동물</td>\n",
              "      <td>3</td>\n",
              "    </tr>\n",
              "    <tr>\n",
              "      <th>2</th>\n",
              "      <td>2</td>\n",
              "      <td>1.135000e+15</td>\n",
              "      <td>5.011000e+15</td>\n",
              "      <td>패션의류</td>\n",
              "      <td>기타패션의류</td>\n",
              "      <td>9</td>\n",
              "    </tr>\n",
              "    <tr>\n",
              "      <th>3</th>\n",
              "      <td>3</td>\n",
              "      <td>1.154500e+15</td>\n",
              "      <td>5.011000e+15</td>\n",
              "      <td>식품</td>\n",
              "      <td>농산물</td>\n",
              "      <td>10</td>\n",
              "    </tr>\n",
              "    <tr>\n",
              "      <th>4</th>\n",
              "      <td>4</td>\n",
              "      <td>1.165000e+15</td>\n",
              "      <td>5.011000e+15</td>\n",
              "      <td>식품</td>\n",
              "      <td>가공식품</td>\n",
              "      <td>3</td>\n",
              "    </tr>\n",
              "    <tr>\n",
              "      <th>5</th>\n",
              "      <td>5</td>\n",
              "      <td>1.168000e+15</td>\n",
              "      <td>5.011000e+15</td>\n",
              "      <td>화장품/미용</td>\n",
              "      <td>스킨케어</td>\n",
              "      <td>5</td>\n",
              "    </tr>\n",
              "    <tr>\n",
              "      <th>6</th>\n",
              "      <td>6</td>\n",
              "      <td>1.171000e+15</td>\n",
              "      <td>5.011000e+15</td>\n",
              "      <td>식품</td>\n",
              "      <td>농산물</td>\n",
              "      <td>5</td>\n",
              "    </tr>\n",
              "    <tr>\n",
              "      <th>7</th>\n",
              "      <td>7</td>\n",
              "      <td>2.623000e+15</td>\n",
              "      <td>5.011000e+15</td>\n",
              "      <td>패션의류</td>\n",
              "      <td>기타패션의류</td>\n",
              "      <td>5</td>\n",
              "    </tr>\n",
              "    <tr>\n",
              "      <th>8</th>\n",
              "      <td>8</td>\n",
              "      <td>2.626000e+15</td>\n",
              "      <td>5.011000e+15</td>\n",
              "      <td>식품</td>\n",
              "      <td>가공식품</td>\n",
              "      <td>3</td>\n",
              "    </tr>\n",
              "    <tr>\n",
              "      <th>9</th>\n",
              "      <td>9</td>\n",
              "      <td>2.726000e+15</td>\n",
              "      <td>5.011000e+15</td>\n",
              "      <td>식품</td>\n",
              "      <td>기타식품</td>\n",
              "      <td>3</td>\n",
              "    </tr>\n",
              "  </tbody>\n",
              "</table>\n",
              "</div>"
            ],
            "text/plain": [
              "   index  SEND_SPG_INNB  REC_SPG_INNB DL_GD_LCLS_NM DL_GD_MCLS_NM  INVC_CONT\n",
              "0      0   1.129000e+15  5.011000e+15          패션의류            상의          3\n",
              "1      1   1.135000e+15  5.011000e+15         생활/건강          반려동물          3\n",
              "2      2   1.135000e+15  5.011000e+15          패션의류        기타패션의류          9\n",
              "3      3   1.154500e+15  5.011000e+15            식품           농산물         10\n",
              "4      4   1.165000e+15  5.011000e+15            식품          가공식품          3\n",
              "5      5   1.168000e+15  5.011000e+15        화장품/미용          스킨케어          5\n",
              "6      6   1.171000e+15  5.011000e+15            식품           농산물          5\n",
              "7      7   2.623000e+15  5.011000e+15          패션의류        기타패션의류          5\n",
              "8      8   2.626000e+15  5.011000e+15            식품          가공식품          3\n",
              "9      9   2.726000e+15  5.011000e+15            식품          기타식품          3"
            ]
          },
          "metadata": {},
          "execution_count": 20
        }
      ]
    },
    {
      "cell_type": "code",
      "source": [
        "# column rename\n",
        "train.rename(columns = {\"SEND_SPG_INNB\":\"send\",\"REC_SPG_INNB\":\"rec\"}, inplace=True)\n",
        "test.rename(columns = {\"SEND_SPG_INNB\":\"send\",\"REC_SPG_INNB\":\"rec\"}, inplace=True)\n",
        "\n",
        "# category 통합\n",
        "train[\"category\"] = train[\"DL_GD_LCLS_NM\"] + \"_\" + train[\"DL_GD_MCLS_NM\"]\n",
        "test[\"category\"] = test[\"DL_GD_LCLS_NM\"] + \"_\" + test[\"DL_GD_MCLS_NM\"]\n",
        "\n",
        "# 불필요한 컬럼 제거\n",
        "train.drop([\"DL_GD_LCLS_NM\", \"DL_GD_MCLS_NM\"], axis=1, inplace = True)\n",
        "test.drop([\"DL_GD_LCLS_NM\", \"DL_GD_MCLS_NM\"], axis=1, inplace = True)"
      ],
      "metadata": {
        "id": "3U1CXXe-Qvnu"
      },
      "execution_count": null,
      "outputs": []
    },
    {
      "cell_type": "code",
      "source": [
        "train.info()"
      ],
      "metadata": {
        "colab": {
          "base_uri": "https://localhost:8080/"
        },
        "id": "KwNvwj3zpeyt",
        "outputId": "59051d84-99d3-41db-a0e7-077c0ea6fc6c"
      },
      "execution_count": null,
      "outputs": [
        {
          "output_type": "stream",
          "name": "stdout",
          "text": [
            "<class 'pandas.core.frame.DataFrame'>\n",
            "RangeIndex: 32000 entries, 0 to 31999\n",
            "Data columns (total 5 columns):\n",
            " #   Column     Non-Null Count  Dtype  \n",
            "---  ------     --------------  -----  \n",
            " 0   index      32000 non-null  int64  \n",
            " 1   send       32000 non-null  float64\n",
            " 2   rec        32000 non-null  float64\n",
            " 3   INVC_CONT  32000 non-null  int64  \n",
            " 4   category   32000 non-null  object \n",
            "dtypes: float64(2), int64(2), object(1)\n",
            "memory usage: 1.2+ MB\n"
          ]
        }
      ]
    },
    {
      "cell_type": "code",
      "source": [
        "test.info()"
      ],
      "metadata": {
        "colab": {
          "base_uri": "https://localhost:8080/"
        },
        "id": "IiX-4uJYqHwm",
        "outputId": "1b5b811c-90f4-4815-cc19-8c282a6fd78c"
      },
      "execution_count": null,
      "outputs": [
        {
          "output_type": "stream",
          "name": "stdout",
          "text": [
            "<class 'pandas.core.frame.DataFrame'>\n",
            "RangeIndex: 4640 entries, 0 to 4639\n",
            "Data columns (total 4 columns):\n",
            " #   Column    Non-Null Count  Dtype  \n",
            "---  ------    --------------  -----  \n",
            " 0   index     4640 non-null   int64  \n",
            " 1   send      4640 non-null   float64\n",
            " 2   rec       4640 non-null   float64\n",
            " 3   category  4640 non-null   object \n",
            "dtypes: float64(2), int64(1), object(1)\n",
            "memory usage: 145.1+ KB\n"
          ]
        }
      ]
    },
    {
      "cell_type": "code",
      "source": [
        "# train.isna().sum()\n",
        "# test.isna().sum()\n",
        "# na 값 x"
      ],
      "metadata": {
        "id": "4IiM1xPfqeFG"
      },
      "execution_count": null,
      "outputs": []
    },
    {
      "cell_type": "code",
      "source": [
        "train.describe()"
      ],
      "metadata": {
        "colab": {
          "base_uri": "https://localhost:8080/",
          "height": 300
        },
        "id": "GzhB7z9wq47g",
        "outputId": "ff4116d1-0102-4693-fa3a-a975d7d22193"
      },
      "execution_count": null,
      "outputs": [
        {
          "output_type": "execute_result",
          "data": {
            "text/html": [
              "<div>\n",
              "<style scoped>\n",
              "    .dataframe tbody tr th:only-of-type {\n",
              "        vertical-align: middle;\n",
              "    }\n",
              "\n",
              "    .dataframe tbody tr th {\n",
              "        vertical-align: top;\n",
              "    }\n",
              "\n",
              "    .dataframe thead th {\n",
              "        text-align: right;\n",
              "    }\n",
              "</style>\n",
              "<table border=\"1\" class=\"dataframe\">\n",
              "  <thead>\n",
              "    <tr style=\"text-align: right;\">\n",
              "      <th></th>\n",
              "      <th>index</th>\n",
              "      <th>send</th>\n",
              "      <th>rec</th>\n",
              "      <th>INVC_CONT</th>\n",
              "    </tr>\n",
              "  </thead>\n",
              "  <tbody>\n",
              "    <tr>\n",
              "      <th>count</th>\n",
              "      <td>32000.000000</td>\n",
              "      <td>3.200000e+04</td>\n",
              "      <td>3.200000e+04</td>\n",
              "      <td>32000.000000</td>\n",
              "    </tr>\n",
              "    <tr>\n",
              "      <th>mean</th>\n",
              "      <td>15999.500000</td>\n",
              "      <td>4.729981e+15</td>\n",
              "      <td>3.713145e+15</td>\n",
              "      <td>4.767875</td>\n",
              "    </tr>\n",
              "    <tr>\n",
              "      <th>std</th>\n",
              "      <td>9237.748643</td>\n",
              "      <td>7.387136e+14</td>\n",
              "      <td>1.320618e+15</td>\n",
              "      <td>5.752122</td>\n",
              "    </tr>\n",
              "    <tr>\n",
              "      <th>min</th>\n",
              "      <td>0.000000</td>\n",
              "      <td>1.111000e+15</td>\n",
              "      <td>1.111000e+15</td>\n",
              "      <td>3.000000</td>\n",
              "    </tr>\n",
              "    <tr>\n",
              "      <th>25%</th>\n",
              "      <td>7999.750000</td>\n",
              "      <td>5.011000e+15</td>\n",
              "      <td>2.820000e+15</td>\n",
              "      <td>3.000000</td>\n",
              "    </tr>\n",
              "    <tr>\n",
              "      <th>50%</th>\n",
              "      <td>15999.500000</td>\n",
              "      <td>5.011000e+15</td>\n",
              "      <td>4.146500e+15</td>\n",
              "      <td>3.000000</td>\n",
              "    </tr>\n",
              "    <tr>\n",
              "      <th>75%</th>\n",
              "      <td>23999.250000</td>\n",
              "      <td>5.013000e+15</td>\n",
              "      <td>4.812350e+15</td>\n",
              "      <td>5.000000</td>\n",
              "    </tr>\n",
              "    <tr>\n",
              "      <th>max</th>\n",
              "      <td>31999.000000</td>\n",
              "      <td>5.013000e+15</td>\n",
              "      <td>5.013000e+15</td>\n",
              "      <td>239.000000</td>\n",
              "    </tr>\n",
              "  </tbody>\n",
              "</table>\n",
              "</div>"
            ],
            "text/plain": [
              "              index          send           rec     INVC_CONT\n",
              "count  32000.000000  3.200000e+04  3.200000e+04  32000.000000\n",
              "mean   15999.500000  4.729981e+15  3.713145e+15      4.767875\n",
              "std     9237.748643  7.387136e+14  1.320618e+15      5.752122\n",
              "min        0.000000  1.111000e+15  1.111000e+15      3.000000\n",
              "25%     7999.750000  5.011000e+15  2.820000e+15      3.000000\n",
              "50%    15999.500000  5.011000e+15  4.146500e+15      3.000000\n",
              "75%    23999.250000  5.013000e+15  4.812350e+15      5.000000\n",
              "max    31999.000000  5.013000e+15  5.013000e+15    239.000000"
            ]
          },
          "metadata": {},
          "execution_count": 39
        }
      ]
    },
    {
      "cell_type": "code",
      "source": [
        "test.describe()"
      ],
      "metadata": {
        "colab": {
          "base_uri": "https://localhost:8080/",
          "height": 300
        },
        "id": "Jz4P5DjVtP21",
        "outputId": "82d3742b-6da8-43b1-814c-b380145e6d93"
      },
      "execution_count": null,
      "outputs": [
        {
          "output_type": "execute_result",
          "data": {
            "text/html": [
              "<div>\n",
              "<style scoped>\n",
              "    .dataframe tbody tr th:only-of-type {\n",
              "        vertical-align: middle;\n",
              "    }\n",
              "\n",
              "    .dataframe tbody tr th {\n",
              "        vertical-align: top;\n",
              "    }\n",
              "\n",
              "    .dataframe thead th {\n",
              "        text-align: right;\n",
              "    }\n",
              "</style>\n",
              "<table border=\"1\" class=\"dataframe\">\n",
              "  <thead>\n",
              "    <tr style=\"text-align: right;\">\n",
              "      <th></th>\n",
              "      <th>index</th>\n",
              "      <th>send</th>\n",
              "      <th>rec</th>\n",
              "    </tr>\n",
              "  </thead>\n",
              "  <tbody>\n",
              "    <tr>\n",
              "      <th>count</th>\n",
              "      <td>4640.000000</td>\n",
              "      <td>4.640000e+03</td>\n",
              "      <td>4.640000e+03</td>\n",
              "    </tr>\n",
              "    <tr>\n",
              "      <th>mean</th>\n",
              "      <td>34319.500000</td>\n",
              "      <td>4.742076e+15</td>\n",
              "      <td>3.715800e+15</td>\n",
              "    </tr>\n",
              "    <tr>\n",
              "      <th>std</th>\n",
              "      <td>1339.596954</td>\n",
              "      <td>7.226584e+14</td>\n",
              "      <td>1.322434e+15</td>\n",
              "    </tr>\n",
              "    <tr>\n",
              "      <th>min</th>\n",
              "      <td>32000.000000</td>\n",
              "      <td>1.111000e+15</td>\n",
              "      <td>1.111000e+15</td>\n",
              "    </tr>\n",
              "    <tr>\n",
              "      <th>25%</th>\n",
              "      <td>33159.750000</td>\n",
              "      <td>5.011000e+15</td>\n",
              "      <td>2.820000e+15</td>\n",
              "    </tr>\n",
              "    <tr>\n",
              "      <th>50%</th>\n",
              "      <td>34319.500000</td>\n",
              "      <td>5.011000e+15</td>\n",
              "      <td>4.146500e+15</td>\n",
              "    </tr>\n",
              "    <tr>\n",
              "      <th>75%</th>\n",
              "      <td>35479.250000</td>\n",
              "      <td>5.013000e+15</td>\n",
              "      <td>4.812150e+15</td>\n",
              "    </tr>\n",
              "    <tr>\n",
              "      <th>max</th>\n",
              "      <td>36639.000000</td>\n",
              "      <td>5.013000e+15</td>\n",
              "      <td>5.013000e+15</td>\n",
              "    </tr>\n",
              "  </tbody>\n",
              "</table>\n",
              "</div>"
            ],
            "text/plain": [
              "              index          send           rec\n",
              "count   4640.000000  4.640000e+03  4.640000e+03\n",
              "mean   34319.500000  4.742076e+15  3.715800e+15\n",
              "std     1339.596954  7.226584e+14  1.322434e+15\n",
              "min    32000.000000  1.111000e+15  1.111000e+15\n",
              "25%    33159.750000  5.011000e+15  2.820000e+15\n",
              "50%    34319.500000  5.011000e+15  4.146500e+15\n",
              "75%    35479.250000  5.013000e+15  4.812150e+15\n",
              "max    36639.000000  5.013000e+15  5.013000e+15"
            ]
          },
          "metadata": {},
          "execution_count": 40
        }
      ]
    },
    {
      "cell_type": "code",
      "source": [
        "train.send.nunique(), train.rec.nunique()"
      ],
      "metadata": {
        "colab": {
          "base_uri": "https://localhost:8080/"
        },
        "id": "tQMc-vQQrWUE",
        "outputId": "f7963421-5eab-4294-beb6-c4421eb32e6d"
      },
      "execution_count": null,
      "outputs": [
        {
          "output_type": "execute_result",
          "data": {
            "text/plain": [
              "(234, 251)"
            ]
          },
          "metadata": {},
          "execution_count": 44
        }
      ]
    },
    {
      "cell_type": "code",
      "source": [
        "test.send.nunique(), test.rec.nunique()"
      ],
      "metadata": {
        "colab": {
          "base_uri": "https://localhost:8080/"
        },
        "id": "_cPN_wpvtILn",
        "outputId": "fe6275d2-3d81-422c-af0d-f7d1740db608"
      },
      "execution_count": null,
      "outputs": [
        {
          "output_type": "execute_result",
          "data": {
            "text/plain": [
              "(158, 247)"
            ]
          },
          "metadata": {},
          "execution_count": 45
        }
      ]
    },
    {
      "cell_type": "code",
      "source": [
        "train.category.nunique()"
      ],
      "metadata": {
        "colab": {
          "base_uri": "https://localhost:8080/"
        },
        "id": "vngiy4Hpt68M",
        "outputId": "e27c01f9-0b42-4196-f717-9f8516fa6ad1"
      },
      "execution_count": null,
      "outputs": [
        {
          "output_type": "execute_result",
          "data": {
            "text/plain": [
              "20"
            ]
          },
          "metadata": {},
          "execution_count": 46
        }
      ]
    },
    {
      "cell_type": "code",
      "source": [
        "plt.figure(figsize=(12,5))\n",
        "train.groupby(\"category\").count()[\"INVC_CONT\"].plot(kind=\"bar\")"
      ],
      "metadata": {
        "colab": {
          "base_uri": "https://localhost:8080/",
          "height": 466
        },
        "id": "Q3cA9h96uDEm",
        "outputId": "30f6b231-f4ab-4cc2-ef10-0aa4d3bf7f96"
      },
      "execution_count": null,
      "outputs": [
        {
          "output_type": "execute_result",
          "data": {
            "text/plain": [
              "<matplotlib.axes._subplots.AxesSubplot at 0x7f3f92b50410>"
            ]
          },
          "metadata": {},
          "execution_count": 50
        },
        {
          "output_type": "display_data",
          "data": {
            "image/png": "[encoded data removed]",
            "text/plain": [
              "<Figure size 864x360 with 1 Axes>"
            ]
          },
          "metadata": {
            "needs_background": "light"
          }
        }
      ]
    },
    {
      "cell_type": "code",
      "source": [
        "from sklearn.preprocessing import MinMaxScaler, StandardScaler, LabelEncoder\n",
        "from sklearn.model_selection import train_test_split\n",
        "from keras.utils.np_utils import to_categorical\n",
        "\n",
        "import tensorflow as tf\n",
        "from keras.models import Sequential\n",
        "from keras.layers import Dense"
      ],
      "metadata": {
        "id": "jjltCJRmu38w"
      },
      "execution_count": null,
      "outputs": []
    },
    {
      "cell_type": "code",
      "source": [
        "scaler = MinMaxScaler()"
      ],
      "metadata": {
        "id": "MpyBNtMMxpih"
      },
      "execution_count": null,
      "outputs": []
    },
    {
      "cell_type": "code",
      "source": [
        "X_train = train.drop([\"INVC_CONT\",\"index\"], axis=1)\n",
        "y_train = train[\"INVC_CONT\"]\n",
        "\n",
        "X_test = test.drop(\"index\", axis=1)"
      ],
      "metadata": {
        "id": "JPKInj2mwEUK"
      },
      "execution_count": null,
      "outputs": []
    },
    {
      "cell_type": "code",
      "source": [
        "X_train"
      ],
      "metadata": {
        "colab": {
          "base_uri": "https://localhost:8080/",
          "height": 423
        },
        "id": "uEzcxJCsxS9k",
        "outputId": "b2516307-750f-4156-8fb7-679561768f04"
      },
      "execution_count": null,
      "outputs": [
        {
          "output_type": "execute_result",
          "data": {
            "text/html": [
              "<div>\n",
              "<style scoped>\n",
              "    .dataframe tbody tr th:only-of-type {\n",
              "        vertical-align: middle;\n",
              "    }\n",
              "\n",
              "    .dataframe tbody tr th {\n",
              "        vertical-align: top;\n",
              "    }\n",
              "\n",
              "    .dataframe thead th {\n",
              "        text-align: right;\n",
              "    }\n",
              "</style>\n",
              "<table border=\"1\" class=\"dataframe\">\n",
              "  <thead>\n",
              "    <tr style=\"text-align: right;\">\n",
              "      <th></th>\n",
              "      <th>send</th>\n",
              "      <th>rec</th>\n",
              "      <th>category</th>\n",
              "    </tr>\n",
              "  </thead>\n",
              "  <tbody>\n",
              "    <tr>\n",
              "      <th>0</th>\n",
              "      <td>1.129000e+15</td>\n",
              "      <td>5.011000e+15</td>\n",
              "      <td>패션의류_상의</td>\n",
              "    </tr>\n",
              "    <tr>\n",
              "      <th>1</th>\n",
              "      <td>1.135000e+15</td>\n",
              "      <td>5.011000e+15</td>\n",
              "      <td>생활/건강_반려동물</td>\n",
              "    </tr>\n",
              "    <tr>\n",
              "      <th>2</th>\n",
              "      <td>1.135000e+15</td>\n",
              "      <td>5.011000e+15</td>\n",
              "      <td>패션의류_기타패션의류</td>\n",
              "    </tr>\n",
              "    <tr>\n",
              "      <th>3</th>\n",
              "      <td>1.154500e+15</td>\n",
              "      <td>5.011000e+15</td>\n",
              "      <td>식품_농산물</td>\n",
              "    </tr>\n",
              "    <tr>\n",
              "      <th>4</th>\n",
              "      <td>1.165000e+15</td>\n",
              "      <td>5.011000e+15</td>\n",
              "      <td>식품_가공식품</td>\n",
              "    </tr>\n",
              "    <tr>\n",
              "      <th>...</th>\n",
              "      <td>...</td>\n",
              "      <td>...</td>\n",
              "      <td>...</td>\n",
              "    </tr>\n",
              "    <tr>\n",
              "      <th>31995</th>\n",
              "      <td>5.011000e+15</td>\n",
              "      <td>2.635000e+15</td>\n",
              "      <td>식품_농산물</td>\n",
              "    </tr>\n",
              "    <tr>\n",
              "      <th>31996</th>\n",
              "      <td>5.011000e+15</td>\n",
              "      <td>1.168000e+15</td>\n",
              "      <td>식품_기타식품</td>\n",
              "    </tr>\n",
              "    <tr>\n",
              "      <th>31997</th>\n",
              "      <td>5.011000e+15</td>\n",
              "      <td>4.119700e+15</td>\n",
              "      <td>식품_농산물</td>\n",
              "    </tr>\n",
              "    <tr>\n",
              "      <th>31998</th>\n",
              "      <td>5.011000e+15</td>\n",
              "      <td>1.132000e+15</td>\n",
              "      <td>식품_농산물</td>\n",
              "    </tr>\n",
              "    <tr>\n",
              "      <th>31999</th>\n",
              "      <td>5.011000e+15</td>\n",
              "      <td>4.719000e+15</td>\n",
              "      <td>식품_농산물</td>\n",
              "    </tr>\n",
              "  </tbody>\n",
              "</table>\n",
              "<p>32000 rows × 3 columns</p>\n",
              "</div>"
            ],
            "text/plain": [
              "               send           rec     category\n",
              "0      1.129000e+15  5.011000e+15      패션의류_상의\n",
              "1      1.135000e+15  5.011000e+15   생활/건강_반려동물\n",
              "2      1.135000e+15  5.011000e+15  패션의류_기타패션의류\n",
              "3      1.154500e+15  5.011000e+15       식품_농산물\n",
              "4      1.165000e+15  5.011000e+15      식품_가공식품\n",
              "...             ...           ...          ...\n",
              "31995  5.011000e+15  2.635000e+15       식품_농산물\n",
              "31996  5.011000e+15  1.168000e+15      식품_기타식품\n",
              "31997  5.011000e+15  4.119700e+15       식품_농산물\n",
              "31998  5.011000e+15  1.132000e+15       식품_농산물\n",
              "31999  5.011000e+15  4.719000e+15       식품_농산물\n",
              "\n",
              "[32000 rows x 3 columns]"
            ]
          },
          "metadata": {},
          "execution_count": 93
        }
      ]
    },
    {
      "cell_type": "code",
      "source": [
        "# # labeling\n",
        "# def numbering(dataset, col):\n",
        "#   le = LabelEncoder()\n",
        "#   le.fit(dataset[col])\n",
        "#   dataset[col] = le.transform(dataset[col])"
      ],
      "metadata": {
        "id": "XN5duppp1qTo"
      },
      "execution_count": null,
      "outputs": []
    },
    {
      "cell_type": "code",
      "source": [
        "X_train = pd.get_dummies(X_train, columns=[\"category\"], prefix=[\"\"], prefix_sep=\"\")\n",
        "X_test = pd.get_dummies(X_test, columns=[\"category\"], prefix=[\"\"], prefix_sep=\"\")"
      ],
      "metadata": {
        "id": "6_CJ3uK71SbE"
      },
      "execution_count": null,
      "outputs": []
    },
    {
      "cell_type": "code",
      "source": [
        "X_train"
      ],
      "metadata": {
        "colab": {
          "base_uri": "https://localhost:8080/",
          "height": 476
        },
        "id": "QOTY9i4q1hEF",
        "outputId": "8fb02556-77fd-4487-cd9e-f075d93cabbe"
      },
      "execution_count": null,
      "outputs": [
        {
          "output_type": "execute_result",
          "data": {
            "text/html": [
              "<div>\n",
              "<style scoped>\n",
              "    .dataframe tbody tr th:only-of-type {\n",
              "        vertical-align: middle;\n",
              "    }\n",
              "\n",
              "    .dataframe tbody tr th {\n",
              "        vertical-align: top;\n",
              "    }\n",
              "\n",
              "    .dataframe thead th {\n",
              "        text-align: right;\n",
              "    }\n",
              "</style>\n",
              "<table border=\"1\" class=\"dataframe\">\n",
              "  <thead>\n",
              "    <tr style=\"text-align: right;\">\n",
              "      <th></th>\n",
              "      <th>send</th>\n",
              "      <th>rec</th>\n",
              "      <th>디지털/가전_기타디지털/가전</th>\n",
              "      <th>생활/건강_건강용품</th>\n",
              "      <th>생활/건강_문구/사무용품</th>\n",
              "      <th>생활/건강_반려동물</th>\n",
              "      <th>생활/건강_생활용품</th>\n",
              "      <th>생활/건강_음반</th>\n",
              "      <th>생활/건강_주방용품</th>\n",
              "      <th>식품_가공식품</th>\n",
              "      <th>식품_건강식품</th>\n",
              "      <th>식품_과자</th>\n",
              "      <th>식품_기타식품</th>\n",
              "      <th>식품_냉동/간편조리식품</th>\n",
              "      <th>식품_농산물</th>\n",
              "      <th>식품_수산</th>\n",
              "      <th>식품_음료</th>\n",
              "      <th>식품_축산</th>\n",
              "      <th>여행/문화_문화컨텐츠</th>\n",
              "      <th>패션의류_기타패션의류</th>\n",
              "      <th>패션의류_상의</th>\n",
              "      <th>화장품/미용_스킨케어</th>\n",
              "    </tr>\n",
              "  </thead>\n",
              "  <tbody>\n",
              "    <tr>\n",
              "      <th>0</th>\n",
              "      <td>1.129000e+15</td>\n",
              "      <td>5.011000e+15</td>\n",
              "      <td>0</td>\n",
              "      <td>0</td>\n",
              "      <td>0</td>\n",
              "      <td>0</td>\n",
              "      <td>0</td>\n",
              "      <td>0</td>\n",
              "      <td>0</td>\n",
              "      <td>0</td>\n",
              "      <td>0</td>\n",
              "      <td>0</td>\n",
              "      <td>0</td>\n",
              "      <td>0</td>\n",
              "      <td>0</td>\n",
              "      <td>0</td>\n",
              "      <td>0</td>\n",
              "      <td>0</td>\n",
              "      <td>0</td>\n",
              "      <td>0</td>\n",
              "      <td>1</td>\n",
              "      <td>0</td>\n",
              "    </tr>\n",
              "    <tr>\n",
              "      <th>1</th>\n",
              "      <td>1.135000e+15</td>\n",
              "      <td>5.011000e+15</td>\n",
              "      <td>0</td>\n",
              "      <td>0</td>\n",
              "      <td>0</td>\n",
              "      <td>1</td>\n",
              "      <td>0</td>\n",
              "      <td>0</td>\n",
              "      <td>0</td>\n",
              "      <td>0</td>\n",
              "      <td>0</td>\n",
              "      <td>0</td>\n",
              "      <td>0</td>\n",
              "      <td>0</td>\n",
              "      <td>0</td>\n",
              "      <td>0</td>\n",
              "      <td>0</td>\n",
              "      <td>0</td>\n",
              "      <td>0</td>\n",
              "      <td>0</td>\n",
              "      <td>0</td>\n",
              "      <td>0</td>\n",
              "    </tr>\n",
              "    <tr>\n",
              "      <th>2</th>\n",
              "      <td>1.135000e+15</td>\n",
              "      <td>5.011000e+15</td>\n",
              "      <td>0</td>\n",
              "      <td>0</td>\n",
              "      <td>0</td>\n",
              "      <td>0</td>\n",
              "      <td>0</td>\n",
              "      <td>0</td>\n",
              "      <td>0</td>\n",
              "      <td>0</td>\n",
              "      <td>0</td>\n",
              "      <td>0</td>\n",
              "      <td>0</td>\n",
              "      <td>0</td>\n",
              "      <td>0</td>\n",
              "      <td>0</td>\n",
              "      <td>0</td>\n",
              "      <td>0</td>\n",
              "      <td>0</td>\n",
              "      <td>1</td>\n",
              "      <td>0</td>\n",
              "      <td>0</td>\n",
              "    </tr>\n",
              "    <tr>\n",
              "      <th>3</th>\n",
              "      <td>1.154500e+15</td>\n",
              "      <td>5.011000e+15</td>\n",
              "      <td>0</td>\n",
              "      <td>0</td>\n",
              "      <td>0</td>\n",
              "      <td>0</td>\n",
              "      <td>0</td>\n",
              "      <td>0</td>\n",
              "      <td>0</td>\n",
              "      <td>0</td>\n",
              "      <td>0</td>\n",
              "      <td>0</td>\n",
              "      <td>0</td>\n",
              "      <td>0</td>\n",
              "      <td>1</td>\n",
              "      <td>0</td>\n",
              "      <td>0</td>\n",
              "      <td>0</td>\n",
              "      <td>0</td>\n",
              "      <td>0</td>\n",
              "      <td>0</td>\n",
              "      <td>0</td>\n",
              "    </tr>\n",
              "    <tr>\n",
              "      <th>4</th>\n",
              "      <td>1.165000e+15</td>\n",
              "      <td>5.011000e+15</td>\n",
              "      <td>0</td>\n",
              "      <td>0</td>\n",
              "      <td>0</td>\n",
              "      <td>0</td>\n",
              "      <td>0</td>\n",
              "      <td>0</td>\n",
              "      <td>0</td>\n",
              "      <td>1</td>\n",
              "      <td>0</td>\n",
              "      <td>0</td>\n",
              "      <td>0</td>\n",
              "      <td>0</td>\n",
              "      <td>0</td>\n",
              "      <td>0</td>\n",
              "      <td>0</td>\n",
              "      <td>0</td>\n",
              "      <td>0</td>\n",
              "      <td>0</td>\n",
              "      <td>0</td>\n",
              "      <td>0</td>\n",
              "    </tr>\n",
              "    <tr>\n",
              "      <th>...</th>\n",
              "      <td>...</td>\n",
              "      <td>...</td>\n",
              "      <td>...</td>\n",
              "      <td>...</td>\n",
              "      <td>...</td>\n",
              "      <td>...</td>\n",
              "      <td>...</td>\n",
              "      <td>...</td>\n",
              "      <td>...</td>\n",
              "      <td>...</td>\n",
              "      <td>...</td>\n",
              "      <td>...</td>\n",
              "      <td>...</td>\n",
              "      <td>...</td>\n",
              "      <td>...</td>\n",
              "      <td>...</td>\n",
              "      <td>...</td>\n",
              "      <td>...</td>\n",
              "      <td>...</td>\n",
              "      <td>...</td>\n",
              "      <td>...</td>\n",
              "      <td>...</td>\n",
              "    </tr>\n",
              "    <tr>\n",
              "      <th>31995</th>\n",
              "      <td>5.011000e+15</td>\n",
              "      <td>2.635000e+15</td>\n",
              "      <td>0</td>\n",
              "      <td>0</td>\n",
              "      <td>0</td>\n",
              "      <td>0</td>\n",
              "      <td>0</td>\n",
              "      <td>0</td>\n",
              "      <td>0</td>\n",
              "      <td>0</td>\n",
              "      <td>0</td>\n",
              "      <td>0</td>\n",
              "      <td>0</td>\n",
              "      <td>0</td>\n",
              "      <td>1</td>\n",
              "      <td>0</td>\n",
              "      <td>0</td>\n",
              "      <td>0</td>\n",
              "      <td>0</td>\n",
              "      <td>0</td>\n",
              "      <td>0</td>\n",
              "      <td>0</td>\n",
              "    </tr>\n",
              "    <tr>\n",
              "      <th>31996</th>\n",
              "      <td>5.011000e+15</td>\n",
              "      <td>1.168000e+15</td>\n",
              "      <td>0</td>\n",
              "      <td>0</td>\n",
              "      <td>0</td>\n",
              "      <td>0</td>\n",
              "      <td>0</td>\n",
              "      <td>0</td>\n",
              "      <td>0</td>\n",
              "      <td>0</td>\n",
              "      <td>0</td>\n",
              "      <td>0</td>\n",
              "      <td>1</td>\n",
              "      <td>0</td>\n",
              "      <td>0</td>\n",
              "      <td>0</td>\n",
              "      <td>0</td>\n",
              "      <td>0</td>\n",
              "      <td>0</td>\n",
              "      <td>0</td>\n",
              "      <td>0</td>\n",
              "      <td>0</td>\n",
              "    </tr>\n",
              "    <tr>\n",
              "      <th>31997</th>\n",
              "      <td>5.011000e+15</td>\n",
              "      <td>4.119700e+15</td>\n",
              "      <td>0</td>\n",
              "      <td>0</td>\n",
              "      <td>0</td>\n",
              "      <td>0</td>\n",
              "      <td>0</td>\n",
              "      <td>0</td>\n",
              "      <td>0</td>\n",
              "      <td>0</td>\n",
              "      <td>0</td>\n",
              "      <td>0</td>\n",
              "      <td>0</td>\n",
              "      <td>0</td>\n",
              "      <td>1</td>\n",
              "      <td>0</td>\n",
              "      <td>0</td>\n",
              "      <td>0</td>\n",
              "      <td>0</td>\n",
              "      <td>0</td>\n",
              "      <td>0</td>\n",
              "      <td>0</td>\n",
              "    </tr>\n",
              "    <tr>\n",
              "      <th>31998</th>\n",
              "      <td>5.011000e+15</td>\n",
              "      <td>1.132000e+15</td>\n",
              "      <td>0</td>\n",
              "      <td>0</td>\n",
              "      <td>0</td>\n",
              "      <td>0</td>\n",
              "      <td>0</td>\n",
              "      <td>0</td>\n",
              "      <td>0</td>\n",
              "      <td>0</td>\n",
              "      <td>0</td>\n",
              "      <td>0</td>\n",
              "      <td>0</td>\n",
              "      <td>0</td>\n",
              "      <td>1</td>\n",
              "      <td>0</td>\n",
              "      <td>0</td>\n",
              "      <td>0</td>\n",
              "      <td>0</td>\n",
              "      <td>0</td>\n",
              "      <td>0</td>\n",
              "      <td>0</td>\n",
              "    </tr>\n",
              "    <tr>\n",
              "      <th>31999</th>\n",
              "      <td>5.011000e+15</td>\n",
              "      <td>4.719000e+15</td>\n",
              "      <td>0</td>\n",
              "      <td>0</td>\n",
              "      <td>0</td>\n",
              "      <td>0</td>\n",
              "      <td>0</td>\n",
              "      <td>0</td>\n",
              "      <td>0</td>\n",
              "      <td>0</td>\n",
              "      <td>0</td>\n",
              "      <td>0</td>\n",
              "      <td>0</td>\n",
              "      <td>0</td>\n",
              "      <td>1</td>\n",
              "      <td>0</td>\n",
              "      <td>0</td>\n",
              "      <td>0</td>\n",
              "      <td>0</td>\n",
              "      <td>0</td>\n",
              "      <td>0</td>\n",
              "      <td>0</td>\n",
              "    </tr>\n",
              "  </tbody>\n",
              "</table>\n",
              "<p>32000 rows × 22 columns</p>\n",
              "</div>"
            ],
            "text/plain": [
              "               send           rec  ...  패션의류_상의  화장품/미용_스킨케어\n",
              "0      1.129000e+15  5.011000e+15  ...        1            0\n",
              "1      1.135000e+15  5.011000e+15  ...        0            0\n",
              "2      1.135000e+15  5.011000e+15  ...        0            0\n",
              "3      1.154500e+15  5.011000e+15  ...        0            0\n",
              "4      1.165000e+15  5.011000e+15  ...        0            0\n",
              "...             ...           ...  ...      ...          ...\n",
              "31995  5.011000e+15  2.635000e+15  ...        0            0\n",
              "31996  5.011000e+15  1.168000e+15  ...        0            0\n",
              "31997  5.011000e+15  4.119700e+15  ...        0            0\n",
              "31998  5.011000e+15  1.132000e+15  ...        0            0\n",
              "31999  5.011000e+15  4.719000e+15  ...        0            0\n",
              "\n",
              "[32000 rows x 22 columns]"
            ]
          },
          "metadata": {},
          "execution_count": 111
        }
      ]
    },
    {
      "cell_type": "code",
      "source": [
        "scaler.fit(X_train)\n",
        "X_train = scaler.transform(X_train)\n",
        "X_test = scaler.transform(X_test)"
      ],
      "metadata": {
        "id": "nAXvRdhI0iZz"
      },
      "execution_count": null,
      "outputs": []
    },
    {
      "cell_type": "code",
      "source": [
        "X_train.shape, X_test.shape, y_train.shape"
      ],
      "metadata": {
        "colab": {
          "base_uri": "https://localhost:8080/"
        },
        "id": "u7uzidMM34xS",
        "outputId": "d2c0cfed-fbcf-4eff-ae75-2324204fac5d"
      },
      "execution_count": null,
      "outputs": [
        {
          "output_type": "execute_result",
          "data": {
            "text/plain": [
              "((32000, 22), (4640, 22), (32000,))"
            ]
          },
          "metadata": {},
          "execution_count": 113
        }
      ]
    },
    {
      "cell_type": "code",
      "source": [
        "X_train, X_valid, y_train, y_valid = train_test_split(X_train, y_train, test_size=0.2)"
      ],
      "metadata": {
        "id": "89bUcPUI4o6p"
      },
      "execution_count": null,
      "outputs": []
    },
    {
      "cell_type": "code",
      "source": [
        "X_train.shape, X_valid.shape"
      ],
      "metadata": {
        "colab": {
          "base_uri": "https://localhost:8080/"
        },
        "id": "_1mZvZFw5eMg",
        "outputId": "632e80bb-bb07-440c-ff18-dab23c923c1c"
      },
      "execution_count": null,
      "outputs": [
        {
          "output_type": "execute_result",
          "data": {
            "text/plain": [
              "((25600, 22), (6400, 22))"
            ]
          },
          "metadata": {},
          "execution_count": 115
        }
      ]
    },
    {
      "cell_type": "markdown",
      "source": [
        "## MLP"
      ],
      "metadata": {
        "id": "7ZaF9YCmbe22"
      }
    },
    {
      "cell_type": "code",
      "source": [
        "model = Sequential()\n",
        "\n",
        "model.add(Dense(32, activation=\"relu\", input_shape=(X_train.shape[1],)))\n",
        "model.add(Dense(64, activation=\"relu\"))\n",
        "model.add(Dense(128, activation=\"relu\"))\n",
        "model.add(Dense(1))"
      ],
      "metadata": {
        "id": "dMzaiojI5gsj"
      },
      "execution_count": null,
      "outputs": []
    },
    {
      "cell_type": "code",
      "source": [
        "optimizer = [tf.keras.optimizers.Adam(lr=2e-4), tf.keras.optimizers.RMSprop(lr=1e-3)]"
      ],
      "metadata": {
        "id": "mu3lJ3-f7vv4"
      },
      "execution_count": null,
      "outputs": []
    },
    {
      "cell_type": "code",
      "source": [
        "model.compile(optimizer=optimizer[0], loss=\"mse\", metrics=[\"mae\"])"
      ],
      "metadata": {
        "id": "qYf2Ss337i9L"
      },
      "execution_count": null,
      "outputs": []
    },
    {
      "cell_type": "code",
      "source": [
        "history = model.fit(X_train,y_train, epochs= 100, validation_data=(X_valid,y_valid))"
      ],
      "metadata": {
        "colab": {
          "base_uri": "https://localhost:8080/",
          "height": 1000
        },
        "id": "xU4Z773a7j7C",
        "outputId": "9d97bbea-0ec3-4f57-bbaa-485fd6ee38e5"
      },
      "execution_count": null,
      "outputs": [
        {
          "output_type": "stream",
          "name": "stdout",
          "text": [
            "Epoch 1/100\n",
            "800/800 [==============================] - 3s 3ms/step - loss: 36.8165 - mae: 2.4474 - val_loss: 26.0519 - val_mae: 2.2742\n",
            "Epoch 2/100\n",
            "800/800 [==============================] - 2s 3ms/step - loss: 33.8613 - mae: 2.2321 - val_loss: 25.8378 - val_mae: 2.0453\n",
            "Epoch 3/100\n",
            "800/800 [==============================] - 2s 3ms/step - loss: 33.7098 - mae: 2.2269 - val_loss: 25.7108 - val_mae: 2.1461\n",
            "Epoch 4/100\n",
            "800/800 [==============================] - 2s 3ms/step - loss: 33.6228 - mae: 2.2219 - val_loss: 25.7409 - val_mae: 2.2567\n",
            "Epoch 5/100\n",
            "800/800 [==============================] - 2s 3ms/step - loss: 33.5441 - mae: 2.2296 - val_loss: 25.7090 - val_mae: 2.1655\n",
            "Epoch 6/100\n",
            "800/800 [==============================] - 2s 3ms/step - loss: 33.5254 - mae: 2.2185 - val_loss: 25.8089 - val_mae: 2.2768\n",
            "Epoch 7/100\n",
            "800/800 [==============================] - 2s 3ms/step - loss: 33.5091 - mae: 2.2144 - val_loss: 25.6796 - val_mae: 2.2595\n",
            "Epoch 8/100\n",
            "800/800 [==============================] - 2s 3ms/step - loss: 33.4946 - mae: 2.2256 - val_loss: 25.6357 - val_mae: 2.1857\n",
            "Epoch 9/100\n",
            "800/800 [==============================] - 2s 3ms/step - loss: 33.4627 - mae: 2.2221 - val_loss: 25.5990 - val_mae: 2.1394\n",
            "Epoch 10/100\n",
            "800/800 [==============================] - 2s 3ms/step - loss: 33.4342 - mae: 2.2194 - val_loss: 25.5807 - val_mae: 2.1013\n",
            "Epoch 11/100\n",
            "800/800 [==============================] - 2s 3ms/step - loss: 33.4371 - mae: 2.2148 - val_loss: 25.6148 - val_mae: 2.1523\n",
            "Epoch 12/100\n",
            "800/800 [==============================] - 2s 3ms/step - loss: 33.4202 - mae: 2.2143 - val_loss: 25.7201 - val_mae: 2.3025\n",
            "Epoch 13/100\n",
            "800/800 [==============================] - 2s 3ms/step - loss: 33.3801 - mae: 2.2261 - val_loss: 25.6492 - val_mae: 2.0083\n",
            "Epoch 14/100\n",
            "800/800 [==============================] - 2s 3ms/step - loss: 33.4213 - mae: 2.2130 - val_loss: 25.6014 - val_mae: 2.0579\n",
            "Epoch 15/100\n",
            "800/800 [==============================] - 2s 3ms/step - loss: 33.4082 - mae: 2.2149 - val_loss: 25.5843 - val_mae: 2.0843\n",
            "Epoch 16/100\n",
            "800/800 [==============================] - 2s 3ms/step - loss: 33.4068 - mae: 2.2162 - val_loss: 25.6262 - val_mae: 2.1110\n",
            "Epoch 17/100\n",
            "800/800 [==============================] - 2s 3ms/step - loss: 33.3779 - mae: 2.2171 - val_loss: 25.6320 - val_mae: 2.0716\n",
            "Epoch 18/100\n",
            "800/800 [==============================] - 2s 3ms/step - loss: 33.3637 - mae: 2.2125 - val_loss: 25.7326 - val_mae: 2.1522\n",
            "Epoch 19/100\n",
            "800/800 [==============================] - 2s 3ms/step - loss: 33.3957 - mae: 2.2152 - val_loss: 25.6284 - val_mae: 2.0778\n",
            "Epoch 20/100\n",
            "800/800 [==============================] - 2s 3ms/step - loss: 33.3827 - mae: 2.2161 - val_loss: 25.6611 - val_mae: 2.1384\n",
            "Epoch 21/100\n",
            "800/800 [==============================] - 2s 3ms/step - loss: 33.3599 - mae: 2.2179 - val_loss: 25.6824 - val_mae: 2.0321\n",
            "Epoch 22/100\n",
            "800/800 [==============================] - 2s 3ms/step - loss: 33.3648 - mae: 2.2107 - val_loss: 25.6445 - val_mae: 2.2224\n",
            "Epoch 23/100\n",
            "800/800 [==============================] - 2s 3ms/step - loss: 33.3678 - mae: 2.2202 - val_loss: 25.6483 - val_mae: 2.0758\n",
            "Epoch 24/100\n",
            "800/800 [==============================] - 2s 3ms/step - loss: 33.3446 - mae: 2.2086 - val_loss: 25.8289 - val_mae: 2.3690\n",
            "Epoch 25/100\n",
            "800/800 [==============================] - 2s 3ms/step - loss: 33.3765 - mae: 2.2206 - val_loss: 25.6585 - val_mae: 2.1989\n",
            "Epoch 26/100\n",
            "800/800 [==============================] - 2s 3ms/step - loss: 33.3736 - mae: 2.2177 - val_loss: 25.6123 - val_mae: 2.0906\n",
            "Epoch 27/100\n",
            "800/800 [==============================] - 2s 3ms/step - loss: 33.3468 - mae: 2.2135 - val_loss: 25.7024 - val_mae: 2.1075\n",
            "Epoch 28/100\n",
            "800/800 [==============================] - 2s 3ms/step - loss: 33.3422 - mae: 2.2181 - val_loss: 25.6501 - val_mae: 2.1006\n",
            "Epoch 29/100\n",
            "800/800 [==============================] - 2s 3ms/step - loss: 33.3490 - mae: 2.2132 - val_loss: 25.7031 - val_mae: 2.1765\n",
            "Epoch 30/100\n",
            "800/800 [==============================] - 2s 3ms/step - loss: 33.3250 - mae: 2.2091 - val_loss: 25.6782 - val_mae: 2.1128\n",
            "Epoch 31/100\n",
            "800/800 [==============================] - 2s 3ms/step - loss: 33.3288 - mae: 2.2240 - val_loss: 25.7059 - val_mae: 2.0142\n",
            "Epoch 32/100\n",
            "800/800 [==============================] - 2s 3ms/step - loss: 33.3294 - mae: 2.2061 - val_loss: 25.7175 - val_mae: 2.2670\n",
            "Epoch 33/100\n",
            "800/800 [==============================] - 2s 3ms/step - loss: 33.3409 - mae: 2.2173 - val_loss: 25.6926 - val_mae: 2.0881\n",
            "Epoch 34/100\n",
            "800/800 [==============================] - 2s 3ms/step - loss: 33.3227 - mae: 2.2136 - val_loss: 25.6670 - val_mae: 2.1271\n",
            "Epoch 35/100\n",
            "800/800 [==============================] - 2s 3ms/step - loss: 33.3229 - mae: 2.2126 - val_loss: 25.6699 - val_mae: 2.1694\n",
            "Epoch 36/100\n",
            "800/800 [==============================] - 2s 3ms/step - loss: 33.3264 - mae: 2.2109 - val_loss: 25.8058 - val_mae: 2.2891\n",
            "Epoch 37/100\n",
            "800/800 [==============================] - 2s 3ms/step - loss: 33.3177 - mae: 2.2071 - val_loss: 26.0034 - val_mae: 2.4623\n",
            "Epoch 38/100\n",
            "800/800 [==============================] - 2s 3ms/step - loss: 33.3405 - mae: 2.2281 - val_loss: 25.6591 - val_mae: 2.0575\n",
            "Epoch 39/100\n",
            "800/800 [==============================] - 2s 3ms/step - loss: 33.3283 - mae: 2.2111 - val_loss: 25.6472 - val_mae: 2.1321\n",
            "Epoch 40/100\n",
            "800/800 [==============================] - 2s 3ms/step - loss: 33.3185 - mae: 2.2136 - val_loss: 25.6872 - val_mae: 2.1919\n",
            "Epoch 41/100\n",
            "800/800 [==============================] - 2s 3ms/step - loss: 33.3077 - mae: 2.2185 - val_loss: 25.6597 - val_mae: 2.1062\n",
            "Epoch 42/100\n",
            "800/800 [==============================] - 2s 3ms/step - loss: 33.3035 - mae: 2.2105 - val_loss: 25.6676 - val_mae: 2.1379\n",
            "Epoch 43/100\n",
            "800/800 [==============================] - 2s 3ms/step - loss: 33.3278 - mae: 2.2116 - val_loss: 25.6523 - val_mae: 2.0930\n",
            "Epoch 44/100\n",
            "800/800 [==============================] - 2s 3ms/step - loss: 33.2971 - mae: 2.2157 - val_loss: 25.6650 - val_mae: 2.1340\n",
            "Epoch 45/100\n",
            "800/800 [==============================] - 2s 3ms/step - loss: 33.3146 - mae: 2.2153 - val_loss: 25.6686 - val_mae: 2.0480\n",
            "Epoch 46/100\n",
            "800/800 [==============================] - 2s 3ms/step - loss: 33.3091 - mae: 2.2117 - val_loss: 25.6690 - val_mae: 2.1113\n",
            "Epoch 47/100\n",
            "800/800 [==============================] - 2s 3ms/step - loss: 33.3008 - mae: 2.2156 - val_loss: 25.6869 - val_mae: 2.0708\n",
            "Epoch 48/100\n",
            "800/800 [==============================] - 2s 3ms/step - loss: 33.2989 - mae: 2.2150 - val_loss: 25.6466 - val_mae: 2.1503\n",
            "Epoch 49/100\n",
            "800/800 [==============================] - 2s 3ms/step - loss: 33.2672 - mae: 2.2120 - val_loss: 25.7272 - val_mae: 2.1742\n",
            "Epoch 50/100\n",
            "800/800 [==============================] - 2s 3ms/step - loss: 33.2896 - mae: 2.2087 - val_loss: 25.7382 - val_mae: 2.2738\n",
            "Epoch 51/100\n",
            "800/800 [==============================] - 2s 3ms/step - loss: 33.2805 - mae: 2.2159 - val_loss: 25.7215 - val_mae: 2.2604\n",
            "Epoch 52/100\n",
            "800/800 [==============================] - 2s 3ms/step - loss: 33.2857 - mae: 2.2128 - val_loss: 25.6771 - val_mae: 2.1155\n",
            "Epoch 53/100\n",
            "800/800 [==============================] - 2s 3ms/step - loss: 33.2813 - mae: 2.2121 - val_loss: 25.6803 - val_mae: 2.1258\n",
            "Epoch 54/100\n",
            "800/800 [==============================] - 2s 3ms/step - loss: 33.2663 - mae: 2.2122 - val_loss: 25.6744 - val_mae: 2.1366\n",
            "Epoch 55/100\n",
            "800/800 [==============================] - 2s 3ms/step - loss: 33.2753 - mae: 2.2070 - val_loss: 25.6908 - val_mae: 2.2097\n",
            "Epoch 56/100\n",
            "800/800 [==============================] - 2s 3ms/step - loss: 33.2680 - mae: 2.2210 - val_loss: 25.6728 - val_mae: 2.0594\n",
            "Epoch 57/100\n",
            "800/800 [==============================] - 2s 3ms/step - loss: 33.2764 - mae: 2.2095 - val_loss: 25.6839 - val_mae: 2.1116\n",
            "Epoch 58/100\n",
            "800/800 [==============================] - 2s 3ms/step - loss: 33.2703 - mae: 2.2132 - val_loss: 25.6729 - val_mae: 2.1032\n",
            "Epoch 59/100\n",
            "800/800 [==============================] - 2s 3ms/step - loss: 33.2643 - mae: 2.2127 - val_loss: 25.6488 - val_mae: 2.1584\n",
            "Epoch 60/100\n",
            "800/800 [==============================] - 2s 3ms/step - loss: 33.2616 - mae: 2.2100 - val_loss: 25.6884 - val_mae: 2.0385\n",
            "Epoch 61/100\n",
            "800/800 [==============================] - 2s 3ms/step - loss: 33.2608 - mae: 2.2123 - val_loss: 25.6742 - val_mae: 2.2365\n",
            "Epoch 62/100\n",
            "800/800 [==============================] - 2s 3ms/step - loss: 33.2578 - mae: 2.2100 - val_loss: 25.6537 - val_mae: 2.1750\n",
            "Epoch 63/100\n",
            "800/800 [==============================] - 2s 3ms/step - loss: 33.2620 - mae: 2.2055 - val_loss: 25.6886 - val_mae: 2.2356\n",
            "Epoch 64/100\n",
            "800/800 [==============================] - 2s 3ms/step - loss: 33.2624 - mae: 2.2198 - val_loss: 25.6635 - val_mae: 2.1459\n",
            "Epoch 65/100\n",
            "800/800 [==============================] - 2s 3ms/step - loss: 33.2536 - mae: 2.2046 - val_loss: 25.7185 - val_mae: 2.2226\n",
            "Epoch 66/100\n",
            "800/800 [==============================] - 2s 3ms/step - loss: 33.2506 - mae: 2.2127 - val_loss: 25.6467 - val_mae: 2.1662\n",
            "Epoch 67/100\n",
            "800/800 [==============================] - 2s 3ms/step - loss: 33.2428 - mae: 2.2163 - val_loss: 25.6262 - val_mae: 2.1481\n",
            "Epoch 68/100\n",
            "800/800 [==============================] - 2s 3ms/step - loss: 33.2419 - mae: 2.2114 - val_loss: 25.6515 - val_mae: 2.0288\n",
            "Epoch 69/100\n",
            "800/800 [==============================] - 2s 3ms/step - loss: 33.2381 - mae: 2.2088 - val_loss: 25.6244 - val_mae: 2.1500\n",
            "Epoch 70/100\n",
            "800/800 [==============================] - 2s 3ms/step - loss: 33.2448 - mae: 2.2114 - val_loss: 25.6709 - val_mae: 2.2299\n",
            "Epoch 71/100\n",
            "800/800 [==============================] - 2s 3ms/step - loss: 33.2154 - mae: 2.2134 - val_loss: 25.6032 - val_mae: 2.1499\n",
            "Epoch 72/100\n",
            "800/800 [==============================] - 2s 3ms/step - loss: 33.2228 - mae: 2.2113 - val_loss: 25.6031 - val_mae: 2.1114\n",
            "Epoch 73/100\n",
            "800/800 [==============================] - 2s 3ms/step - loss: 33.2206 - mae: 2.2126 - val_loss: 25.6893 - val_mae: 2.2114\n",
            "Epoch 74/100\n",
            "800/800 [==============================] - 2s 3ms/step - loss: 33.2228 - mae: 2.2169 - val_loss: 25.6876 - val_mae: 2.0252\n",
            "Epoch 75/100\n",
            "800/800 [==============================] - 2s 3ms/step - loss: 33.2478 - mae: 2.2059 - val_loss: 25.6598 - val_mae: 2.1063\n",
            "Epoch 76/100\n",
            "800/800 [==============================] - 2s 3ms/step - loss: 33.1943 - mae: 2.2070 - val_loss: 26.1530 - val_mae: 2.4670\n",
            "Epoch 77/100\n",
            "800/800 [==============================] - 2s 3ms/step - loss: 33.1980 - mae: 2.2180 - val_loss: 25.6808 - val_mae: 2.2019\n",
            "Epoch 78/100\n",
            "800/800 [==============================] - 2s 3ms/step - loss: 33.2238 - mae: 2.2152 - val_loss: 25.6591 - val_mae: 2.1252\n",
            "Epoch 79/100\n",
            "800/800 [==============================] - 2s 3ms/step - loss: 33.2407 - mae: 2.2084 - val_loss: 25.6459 - val_mae: 2.2097\n",
            "Epoch 80/100\n",
            "219/800 [=======>......................] - ETA: 1s - loss: 34.1909 - mae: 2.1063"
          ]
        },
        {
          "output_type": "error",
          "ename": "KeyboardInterrupt",
          "evalue": "ignored",
          "traceback": [
            "\u001b[0;31m---------------------------------------------------------------------------\u001b[0m",
            "\u001b[0;31mKeyboardInterrupt\u001b[0m                         Traceback (most recent call last)",
            "\u001b[0;32m<ipython-input-143-ea3ba91f3a08>\u001b[0m in \u001b[0;36m<module>\u001b[0;34m()\u001b[0m\n\u001b[0;32m----> 1\u001b[0;31m \u001b[0mhistory\u001b[0m \u001b[0;34m=\u001b[0m \u001b[0mmodel\u001b[0m\u001b[0;34m.\u001b[0m\u001b[0mfit\u001b[0m\u001b[0;34m(\u001b[0m\u001b[0mX_train\u001b[0m\u001b[0;34m,\u001b[0m\u001b[0my_train\u001b[0m\u001b[0;34m,\u001b[0m \u001b[0mepochs\u001b[0m\u001b[0;34m=\u001b[0m \u001b[0;36m100\u001b[0m\u001b[0;34m,\u001b[0m \u001b[0mvalidation_data\u001b[0m\u001b[0;34m=\u001b[0m\u001b[0;34m(\u001b[0m\u001b[0mX_valid\u001b[0m\u001b[0;34m,\u001b[0m\u001b[0my_valid\u001b[0m\u001b[0;34m)\u001b[0m\u001b[0;34m)\u001b[0m\u001b[0;34m\u001b[0m\u001b[0;34m\u001b[0m\u001b[0m\n\u001b[0m",
            "\u001b[0;32m/usr/local/lib/python3.7/dist-packages/keras/utils/traceback_utils.py\u001b[0m in \u001b[0;36merror_handler\u001b[0;34m(*args, **kwargs)\u001b[0m\n\u001b[1;32m     62\u001b[0m     \u001b[0mfiltered_tb\u001b[0m \u001b[0;34m=\u001b[0m \u001b[0;32mNone\u001b[0m\u001b[0;34m\u001b[0m\u001b[0;34m\u001b[0m\u001b[0m\n\u001b[1;32m     63\u001b[0m     \u001b[0;32mtry\u001b[0m\u001b[0;34m:\u001b[0m\u001b[0;34m\u001b[0m\u001b[0;34m\u001b[0m\u001b[0m\n\u001b[0;32m---> 64\u001b[0;31m       \u001b[0;32mreturn\u001b[0m \u001b[0mfn\u001b[0m\u001b[0;34m(\u001b[0m\u001b[0;34m*\u001b[0m\u001b[0margs\u001b[0m\u001b[0;34m,\u001b[0m \u001b[0;34m**\u001b[0m\u001b[0mkwargs\u001b[0m\u001b[0;34m)\u001b[0m\u001b[0;34m\u001b[0m\u001b[0;34m\u001b[0m\u001b[0m\n\u001b[0m\u001b[1;32m     65\u001b[0m     \u001b[0;32mexcept\u001b[0m \u001b[0mException\u001b[0m \u001b[0;32mas\u001b[0m \u001b[0me\u001b[0m\u001b[0;34m:\u001b[0m  \u001b[0;31m# pylint: disable=broad-except\u001b[0m\u001b[0;34m\u001b[0m\u001b[0;34m\u001b[0m\u001b[0m\n\u001b[1;32m     66\u001b[0m       \u001b[0mfiltered_tb\u001b[0m \u001b[0;34m=\u001b[0m \u001b[0m_process_traceback_frames\u001b[0m\u001b[0;34m(\u001b[0m\u001b[0me\u001b[0m\u001b[0;34m.\u001b[0m\u001b[0m__traceback__\u001b[0m\u001b[0;34m)\u001b[0m\u001b[0;34m\u001b[0m\u001b[0;34m\u001b[0m\u001b[0m\n",
            "\u001b[0;32m/usr/local/lib/python3.7/dist-packages/keras/engine/training.py\u001b[0m in \u001b[0;36mfit\u001b[0;34m(self, x, y, batch_size, epochs, verbose, callbacks, validation_split, validation_data, shuffle, class_weight, sample_weight, initial_epoch, steps_per_epoch, validation_steps, validation_batch_size, validation_freq, max_queue_size, workers, use_multiprocessing)\u001b[0m\n\u001b[1;32m   1214\u001b[0m                 _r=1):\n\u001b[1;32m   1215\u001b[0m               \u001b[0mcallbacks\u001b[0m\u001b[0;34m.\u001b[0m\u001b[0mon_train_batch_begin\u001b[0m\u001b[0;34m(\u001b[0m\u001b[0mstep\u001b[0m\u001b[0;34m)\u001b[0m\u001b[0;34m\u001b[0m\u001b[0;34m\u001b[0m\u001b[0m\n\u001b[0;32m-> 1216\u001b[0;31m               \u001b[0mtmp_logs\u001b[0m \u001b[0;34m=\u001b[0m \u001b[0mself\u001b[0m\u001b[0;34m.\u001b[0m\u001b[0mtrain_function\u001b[0m\u001b[0;34m(\u001b[0m\u001b[0miterator\u001b[0m\u001b[0;34m)\u001b[0m\u001b[0;34m\u001b[0m\u001b[0;34m\u001b[0m\u001b[0m\n\u001b[0m\u001b[1;32m   1217\u001b[0m               \u001b[0;32mif\u001b[0m \u001b[0mdata_handler\u001b[0m\u001b[0;34m.\u001b[0m\u001b[0mshould_sync\u001b[0m\u001b[0;34m:\u001b[0m\u001b[0;34m\u001b[0m\u001b[0;34m\u001b[0m\u001b[0m\n\u001b[1;32m   1218\u001b[0m                 \u001b[0mcontext\u001b[0m\u001b[0;34m.\u001b[0m\u001b[0masync_wait\u001b[0m\u001b[0;34m(\u001b[0m\u001b[0;34m)\u001b[0m\u001b[0;34m\u001b[0m\u001b[0;34m\u001b[0m\u001b[0m\n",
            "\u001b[0;32m/usr/local/lib/python3.7/dist-packages/tensorflow/python/util/traceback_utils.py\u001b[0m in \u001b[0;36merror_handler\u001b[0;34m(*args, **kwargs)\u001b[0m\n\u001b[1;32m    148\u001b[0m     \u001b[0mfiltered_tb\u001b[0m \u001b[0;34m=\u001b[0m \u001b[0;32mNone\u001b[0m\u001b[0;34m\u001b[0m\u001b[0;34m\u001b[0m\u001b[0m\n\u001b[1;32m    149\u001b[0m     \u001b[0;32mtry\u001b[0m\u001b[0;34m:\u001b[0m\u001b[0;34m\u001b[0m\u001b[0;34m\u001b[0m\u001b[0m\n\u001b[0;32m--> 150\u001b[0;31m       \u001b[0;32mreturn\u001b[0m \u001b[0mfn\u001b[0m\u001b[0;34m(\u001b[0m\u001b[0;34m*\u001b[0m\u001b[0margs\u001b[0m\u001b[0;34m,\u001b[0m \u001b[0;34m**\u001b[0m\u001b[0mkwargs\u001b[0m\u001b[0;34m)\u001b[0m\u001b[0;34m\u001b[0m\u001b[0;34m\u001b[0m\u001b[0m\n\u001b[0m\u001b[1;32m    151\u001b[0m     \u001b[0;32mexcept\u001b[0m \u001b[0mException\u001b[0m \u001b[0;32mas\u001b[0m \u001b[0me\u001b[0m\u001b[0;34m:\u001b[0m\u001b[0;34m\u001b[0m\u001b[0;34m\u001b[0m\u001b[0m\n\u001b[1;32m    152\u001b[0m       \u001b[0mfiltered_tb\u001b[0m \u001b[0;34m=\u001b[0m \u001b[0m_process_traceback_frames\u001b[0m\u001b[0;34m(\u001b[0m\u001b[0me\u001b[0m\u001b[0;34m.\u001b[0m\u001b[0m__traceback__\u001b[0m\u001b[0;34m)\u001b[0m\u001b[0;34m\u001b[0m\u001b[0;34m\u001b[0m\u001b[0m\n",
            "\u001b[0;32m/usr/local/lib/python3.7/dist-packages/tensorflow/python/eager/def_function.py\u001b[0m in \u001b[0;36m__call__\u001b[0;34m(self, *args, **kwds)\u001b[0m\n\u001b[1;32m    908\u001b[0m \u001b[0;34m\u001b[0m\u001b[0m\n\u001b[1;32m    909\u001b[0m       \u001b[0;32mwith\u001b[0m \u001b[0mOptionalXlaContext\u001b[0m\u001b[0;34m(\u001b[0m\u001b[0mself\u001b[0m\u001b[0;34m.\u001b[0m\u001b[0m_jit_compile\u001b[0m\u001b[0;34m)\u001b[0m\u001b[0;34m:\u001b[0m\u001b[0;34m\u001b[0m\u001b[0;34m\u001b[0m\u001b[0m\n\u001b[0;32m--> 910\u001b[0;31m         \u001b[0mresult\u001b[0m \u001b[0;34m=\u001b[0m \u001b[0mself\u001b[0m\u001b[0;34m.\u001b[0m\u001b[0m_call\u001b[0m\u001b[0;34m(\u001b[0m\u001b[0;34m*\u001b[0m\u001b[0margs\u001b[0m\u001b[0;34m,\u001b[0m \u001b[0;34m**\u001b[0m\u001b[0mkwds\u001b[0m\u001b[0;34m)\u001b[0m\u001b[0;34m\u001b[0m\u001b[0;34m\u001b[0m\u001b[0m\n\u001b[0m\u001b[1;32m    911\u001b[0m \u001b[0;34m\u001b[0m\u001b[0m\n\u001b[1;32m    912\u001b[0m       \u001b[0mnew_tracing_count\u001b[0m \u001b[0;34m=\u001b[0m \u001b[0mself\u001b[0m\u001b[0;34m.\u001b[0m\u001b[0mexperimental_get_tracing_count\u001b[0m\u001b[0;34m(\u001b[0m\u001b[0;34m)\u001b[0m\u001b[0;34m\u001b[0m\u001b[0;34m\u001b[0m\u001b[0m\n",
            "\u001b[0;32m/usr/local/lib/python3.7/dist-packages/tensorflow/python/eager/def_function.py\u001b[0m in \u001b[0;36m_call\u001b[0;34m(self, *args, **kwds)\u001b[0m\n\u001b[1;32m    940\u001b[0m       \u001b[0;31m# In this case we have created variables on the first call, so we run the\u001b[0m\u001b[0;34m\u001b[0m\u001b[0;34m\u001b[0m\u001b[0;34m\u001b[0m\u001b[0m\n\u001b[1;32m    941\u001b[0m       \u001b[0;31m# defunned version which is guaranteed to never create variables.\u001b[0m\u001b[0;34m\u001b[0m\u001b[0;34m\u001b[0m\u001b[0;34m\u001b[0m\u001b[0m\n\u001b[0;32m--> 942\u001b[0;31m       \u001b[0;32mreturn\u001b[0m \u001b[0mself\u001b[0m\u001b[0;34m.\u001b[0m\u001b[0m_stateless_fn\u001b[0m\u001b[0;34m(\u001b[0m\u001b[0;34m*\u001b[0m\u001b[0margs\u001b[0m\u001b[0;34m,\u001b[0m \u001b[0;34m**\u001b[0m\u001b[0mkwds\u001b[0m\u001b[0;34m)\u001b[0m  \u001b[0;31m# pylint: disable=not-callable\u001b[0m\u001b[0;34m\u001b[0m\u001b[0;34m\u001b[0m\u001b[0m\n\u001b[0m\u001b[1;32m    943\u001b[0m     \u001b[0;32melif\u001b[0m \u001b[0mself\u001b[0m\u001b[0;34m.\u001b[0m\u001b[0m_stateful_fn\u001b[0m \u001b[0;32mis\u001b[0m \u001b[0;32mnot\u001b[0m \u001b[0;32mNone\u001b[0m\u001b[0;34m:\u001b[0m\u001b[0;34m\u001b[0m\u001b[0;34m\u001b[0m\u001b[0m\n\u001b[1;32m    944\u001b[0m       \u001b[0;31m# Release the lock early so that multiple threads can perform the call\u001b[0m\u001b[0;34m\u001b[0m\u001b[0;34m\u001b[0m\u001b[0;34m\u001b[0m\u001b[0m\n",
            "\u001b[0;32m/usr/local/lib/python3.7/dist-packages/tensorflow/python/eager/function.py\u001b[0m in \u001b[0;36m__call__\u001b[0;34m(self, *args, **kwargs)\u001b[0m\n\u001b[1;32m   3129\u001b[0m        filtered_flat_args) = self._maybe_define_function(args, kwargs)\n\u001b[1;32m   3130\u001b[0m     return graph_function._call_flat(\n\u001b[0;32m-> 3131\u001b[0;31m         filtered_flat_args, captured_inputs=graph_function.captured_inputs)  # pylint: disable=protected-access\n\u001b[0m\u001b[1;32m   3132\u001b[0m \u001b[0;34m\u001b[0m\u001b[0m\n\u001b[1;32m   3133\u001b[0m   \u001b[0;34m@\u001b[0m\u001b[0mproperty\u001b[0m\u001b[0;34m\u001b[0m\u001b[0;34m\u001b[0m\u001b[0m\n",
            "\u001b[0;32m/usr/local/lib/python3.7/dist-packages/tensorflow/python/eager/function.py\u001b[0m in \u001b[0;36m_call_flat\u001b[0;34m(self, args, captured_inputs, cancellation_manager)\u001b[0m\n\u001b[1;32m   1958\u001b[0m       \u001b[0;31m# No tape is watching; skip to running the function.\u001b[0m\u001b[0;34m\u001b[0m\u001b[0;34m\u001b[0m\u001b[0;34m\u001b[0m\u001b[0m\n\u001b[1;32m   1959\u001b[0m       return self._build_call_outputs(self._inference_function.call(\n\u001b[0;32m-> 1960\u001b[0;31m           ctx, args, cancellation_manager=cancellation_manager))\n\u001b[0m\u001b[1;32m   1961\u001b[0m     forward_backward = self._select_forward_and_backward_functions(\n\u001b[1;32m   1962\u001b[0m         \u001b[0margs\u001b[0m\u001b[0;34m,\u001b[0m\u001b[0;34m\u001b[0m\u001b[0;34m\u001b[0m\u001b[0m\n",
            "\u001b[0;32m/usr/local/lib/python3.7/dist-packages/tensorflow/python/eager/function.py\u001b[0m in \u001b[0;36mcall\u001b[0;34m(self, ctx, args, cancellation_manager)\u001b[0m\n\u001b[1;32m    601\u001b[0m               \u001b[0minputs\u001b[0m\u001b[0;34m=\u001b[0m\u001b[0margs\u001b[0m\u001b[0;34m,\u001b[0m\u001b[0;34m\u001b[0m\u001b[0;34m\u001b[0m\u001b[0m\n\u001b[1;32m    602\u001b[0m               \u001b[0mattrs\u001b[0m\u001b[0;34m=\u001b[0m\u001b[0mattrs\u001b[0m\u001b[0;34m,\u001b[0m\u001b[0;34m\u001b[0m\u001b[0;34m\u001b[0m\u001b[0m\n\u001b[0;32m--> 603\u001b[0;31m               ctx=ctx)\n\u001b[0m\u001b[1;32m    604\u001b[0m         \u001b[0;32melse\u001b[0m\u001b[0;34m:\u001b[0m\u001b[0;34m\u001b[0m\u001b[0;34m\u001b[0m\u001b[0m\n\u001b[1;32m    605\u001b[0m           outputs = execute.execute_with_cancellation(\n",
            "\u001b[0;32m/usr/local/lib/python3.7/dist-packages/tensorflow/python/eager/execute.py\u001b[0m in \u001b[0;36mquick_execute\u001b[0;34m(op_name, num_outputs, inputs, attrs, ctx, name)\u001b[0m\n\u001b[1;32m     57\u001b[0m     \u001b[0mctx\u001b[0m\u001b[0;34m.\u001b[0m\u001b[0mensure_initialized\u001b[0m\u001b[0;34m(\u001b[0m\u001b[0;34m)\u001b[0m\u001b[0;34m\u001b[0m\u001b[0;34m\u001b[0m\u001b[0m\n\u001b[1;32m     58\u001b[0m     tensors = pywrap_tfe.TFE_Py_Execute(ctx._handle, device_name, op_name,\n\u001b[0;32m---> 59\u001b[0;31m                                         inputs, attrs, num_outputs)\n\u001b[0m\u001b[1;32m     60\u001b[0m   \u001b[0;32mexcept\u001b[0m \u001b[0mcore\u001b[0m\u001b[0;34m.\u001b[0m\u001b[0m_NotOkStatusException\u001b[0m \u001b[0;32mas\u001b[0m \u001b[0me\u001b[0m\u001b[0;34m:\u001b[0m\u001b[0;34m\u001b[0m\u001b[0;34m\u001b[0m\u001b[0m\n\u001b[1;32m     61\u001b[0m     \u001b[0;32mif\u001b[0m \u001b[0mname\u001b[0m \u001b[0;32mis\u001b[0m \u001b[0;32mnot\u001b[0m \u001b[0;32mNone\u001b[0m\u001b[0;34m:\u001b[0m\u001b[0;34m\u001b[0m\u001b[0;34m\u001b[0m\u001b[0m\n",
            "\u001b[0;31mKeyboardInterrupt\u001b[0m: "
          ]
        }
      ]
    },
    {
      "cell_type": "code",
      "source": [
        "pred = model.predict(X_test)"
      ],
      "metadata": {
        "id": "x2L_WAMC8qHR"
      },
      "execution_count": null,
      "outputs": []
    },
    {
      "cell_type": "code",
      "source": [
        "model.evaluate(X_valid, y_valid)"
      ],
      "metadata": {
        "colab": {
          "base_uri": "https://localhost:8080/"
        },
        "id": "suG7pT2eG6RB",
        "outputId": "32e86d61-6057-43ac-9173-2d4ff6b220b2"
      },
      "execution_count": null,
      "outputs": [
        {
          "output_type": "stream",
          "name": "stdout",
          "text": [
            "200/200 [==============================] - 0s 2ms/step - loss: 25.4128 - mae: 2.0834\n"
          ]
        },
        {
          "output_type": "execute_result",
          "data": {
            "text/plain": [
              "[25.412817001342773, 2.083350658416748]"
            ]
          },
          "metadata": {},
          "execution_count": 121
        }
      ]
    },
    {
      "cell_type": "code",
      "source": [
        "submission"
      ],
      "metadata": {
        "colab": {
          "base_uri": "https://localhost:8080/",
          "height": 423
        },
        "id": "zIZicId0G-Kl",
        "outputId": "d360b9e3-beb9-4485-ba4a-4507e8bb9d94"
      },
      "execution_count": null,
      "outputs": [
        {
          "output_type": "execute_result",
          "data": {
            "text/html": [
              "<div>\n",
              "<style scoped>\n",
              "    .dataframe tbody tr th:only-of-type {\n",
              "        vertical-align: middle;\n",
              "    }\n",
              "\n",
              "    .dataframe tbody tr th {\n",
              "        vertical-align: top;\n",
              "    }\n",
              "\n",
              "    .dataframe thead th {\n",
              "        text-align: right;\n",
              "    }\n",
              "</style>\n",
              "<table border=\"1\" class=\"dataframe\">\n",
              "  <thead>\n",
              "    <tr style=\"text-align: right;\">\n",
              "      <th></th>\n",
              "      <th>index</th>\n",
              "      <th>INVC_CONT</th>\n",
              "    </tr>\n",
              "  </thead>\n",
              "  <tbody>\n",
              "    <tr>\n",
              "      <th>0</th>\n",
              "      <td>32000</td>\n",
              "      <td>0</td>\n",
              "    </tr>\n",
              "    <tr>\n",
              "      <th>1</th>\n",
              "      <td>32001</td>\n",
              "      <td>0</td>\n",
              "    </tr>\n",
              "    <tr>\n",
              "      <th>2</th>\n",
              "      <td>32002</td>\n",
              "      <td>0</td>\n",
              "    </tr>\n",
              "    <tr>\n",
              "      <th>3</th>\n",
              "      <td>32003</td>\n",
              "      <td>0</td>\n",
              "    </tr>\n",
              "    <tr>\n",
              "      <th>4</th>\n",
              "      <td>32004</td>\n",
              "      <td>0</td>\n",
              "    </tr>\n",
              "    <tr>\n",
              "      <th>...</th>\n",
              "      <td>...</td>\n",
              "      <td>...</td>\n",
              "    </tr>\n",
              "    <tr>\n",
              "      <th>4635</th>\n",
              "      <td>36635</td>\n",
              "      <td>0</td>\n",
              "    </tr>\n",
              "    <tr>\n",
              "      <th>4636</th>\n",
              "      <td>36636</td>\n",
              "      <td>0</td>\n",
              "    </tr>\n",
              "    <tr>\n",
              "      <th>4637</th>\n",
              "      <td>36637</td>\n",
              "      <td>0</td>\n",
              "    </tr>\n",
              "    <tr>\n",
              "      <th>4638</th>\n",
              "      <td>36638</td>\n",
              "      <td>0</td>\n",
              "    </tr>\n",
              "    <tr>\n",
              "      <th>4639</th>\n",
              "      <td>36639</td>\n",
              "      <td>0</td>\n",
              "    </tr>\n",
              "  </tbody>\n",
              "</table>\n",
              "<p>4640 rows × 2 columns</p>\n",
              "</div>"
            ],
            "text/plain": [
              "      index  INVC_CONT\n",
              "0     32000          0\n",
              "1     32001          0\n",
              "2     32002          0\n",
              "3     32003          0\n",
              "4     32004          0\n",
              "...     ...        ...\n",
              "4635  36635          0\n",
              "4636  36636          0\n",
              "4637  36637          0\n",
              "4638  36638          0\n",
              "4639  36639          0\n",
              "\n",
              "[4640 rows x 2 columns]"
            ]
          },
          "metadata": {},
          "execution_count": 122
        }
      ]
    },
    {
      "cell_type": "code",
      "source": [
        "submission[\"INVC_CONT\"] = pred"
      ],
      "metadata": {
        "id": "ESv0fk1hHA-R"
      },
      "execution_count": null,
      "outputs": []
    },
    {
      "cell_type": "code",
      "source": [
        "submission[\"INVC_CONT\"].describe()"
      ],
      "metadata": {
        "colab": {
          "base_uri": "https://localhost:8080/"
        },
        "id": "8jRgPNroHQaH",
        "outputId": "38d4ddb9-2c6e-4310-cc03-9717c936f540"
      },
      "execution_count": null,
      "outputs": [
        {
          "output_type": "execute_result",
          "data": {
            "text/plain": [
              "count    4640.000000\n",
              "mean        4.312069\n",
              "std         1.038608\n",
              "min         3.000000\n",
              "25%         4.000000\n",
              "50%         4.000000\n",
              "75%         4.000000\n",
              "max        16.000000\n",
              "Name: INVC_CONT, dtype: float64"
            ]
          },
          "metadata": {},
          "execution_count": 129
        }
      ]
    },
    {
      "cell_type": "code",
      "source": [
        "submission[\"INVC_CONT\"] = submission[\"INVC_CONT\"].astype(\"int32\")"
      ],
      "metadata": {
        "id": "miZ-5L44aUhC"
      },
      "execution_count": null,
      "outputs": []
    },
    {
      "cell_type": "code",
      "source": [
        "submission.to_csv(\"my_sub_1210_3.csv\", index=False)"
      ],
      "metadata": {
        "id": "vzuSVaNSIqgG"
      },
      "execution_count": null,
      "outputs": []
    },
    {
      "cell_type": "code",
      "source": [
        "train"
      ],
      "metadata": {
        "colab": {
          "base_uri": "https://localhost:8080/",
          "height": 423
        },
        "id": "a671LPO0Hm5x",
        "outputId": "a82114bc-aab2-4673-8dca-e8d89bc0d9f1"
      },
      "execution_count": null,
      "outputs": [
        {
          "output_type": "execute_result",
          "data": {
            "text/html": [
              "<div>\n",
              "<style scoped>\n",
              "    .dataframe tbody tr th:only-of-type {\n",
              "        vertical-align: middle;\n",
              "    }\n",
              "\n",
              "    .dataframe tbody tr th {\n",
              "        vertical-align: top;\n",
              "    }\n",
              "\n",
              "    .dataframe thead th {\n",
              "        text-align: right;\n",
              "    }\n",
              "</style>\n",
              "<table border=\"1\" class=\"dataframe\">\n",
              "  <thead>\n",
              "    <tr style=\"text-align: right;\">\n",
              "      <th></th>\n",
              "      <th>index</th>\n",
              "      <th>SEND_SPG_INNB</th>\n",
              "      <th>REC_SPG_INNB</th>\n",
              "      <th>DL_GD_LCLS_NM</th>\n",
              "      <th>DL_GD_MCLS_NM</th>\n",
              "      <th>INVC_CONT</th>\n",
              "    </tr>\n",
              "  </thead>\n",
              "  <tbody>\n",
              "    <tr>\n",
              "      <th>0</th>\n",
              "      <td>0</td>\n",
              "      <td>1.129000e+15</td>\n",
              "      <td>5.011000e+15</td>\n",
              "      <td>패션의류</td>\n",
              "      <td>상의</td>\n",
              "      <td>3</td>\n",
              "    </tr>\n",
              "    <tr>\n",
              "      <th>1</th>\n",
              "      <td>1</td>\n",
              "      <td>1.135000e+15</td>\n",
              "      <td>5.011000e+15</td>\n",
              "      <td>생활/건강</td>\n",
              "      <td>반려동물</td>\n",
              "      <td>3</td>\n",
              "    </tr>\n",
              "    <tr>\n",
              "      <th>2</th>\n",
              "      <td>2</td>\n",
              "      <td>1.135000e+15</td>\n",
              "      <td>5.011000e+15</td>\n",
              "      <td>패션의류</td>\n",
              "      <td>기타패션의류</td>\n",
              "      <td>9</td>\n",
              "    </tr>\n",
              "    <tr>\n",
              "      <th>3</th>\n",
              "      <td>3</td>\n",
              "      <td>1.154500e+15</td>\n",
              "      <td>5.011000e+15</td>\n",
              "      <td>식품</td>\n",
              "      <td>농산물</td>\n",
              "      <td>10</td>\n",
              "    </tr>\n",
              "    <tr>\n",
              "      <th>4</th>\n",
              "      <td>4</td>\n",
              "      <td>1.165000e+15</td>\n",
              "      <td>5.011000e+15</td>\n",
              "      <td>식품</td>\n",
              "      <td>가공식품</td>\n",
              "      <td>3</td>\n",
              "    </tr>\n",
              "    <tr>\n",
              "      <th>...</th>\n",
              "      <td>...</td>\n",
              "      <td>...</td>\n",
              "      <td>...</td>\n",
              "      <td>...</td>\n",
              "      <td>...</td>\n",
              "      <td>...</td>\n",
              "    </tr>\n",
              "    <tr>\n",
              "      <th>31995</th>\n",
              "      <td>31995</td>\n",
              "      <td>5.011000e+15</td>\n",
              "      <td>2.635000e+15</td>\n",
              "      <td>식품</td>\n",
              "      <td>농산물</td>\n",
              "      <td>6</td>\n",
              "    </tr>\n",
              "    <tr>\n",
              "      <th>31996</th>\n",
              "      <td>31996</td>\n",
              "      <td>5.011000e+15</td>\n",
              "      <td>1.168000e+15</td>\n",
              "      <td>식품</td>\n",
              "      <td>기타식품</td>\n",
              "      <td>5</td>\n",
              "    </tr>\n",
              "    <tr>\n",
              "      <th>31997</th>\n",
              "      <td>31997</td>\n",
              "      <td>5.011000e+15</td>\n",
              "      <td>4.119700e+15</td>\n",
              "      <td>식품</td>\n",
              "      <td>농산물</td>\n",
              "      <td>9</td>\n",
              "    </tr>\n",
              "    <tr>\n",
              "      <th>31998</th>\n",
              "      <td>31998</td>\n",
              "      <td>5.011000e+15</td>\n",
              "      <td>1.132000e+15</td>\n",
              "      <td>식품</td>\n",
              "      <td>농산물</td>\n",
              "      <td>3</td>\n",
              "    </tr>\n",
              "    <tr>\n",
              "      <th>31999</th>\n",
              "      <td>31999</td>\n",
              "      <td>5.011000e+15</td>\n",
              "      <td>4.719000e+15</td>\n",
              "      <td>식품</td>\n",
              "      <td>농산물</td>\n",
              "      <td>5</td>\n",
              "    </tr>\n",
              "  </tbody>\n",
              "</table>\n",
              "<p>32000 rows × 6 columns</p>\n",
              "</div>"
            ],
            "text/plain": [
              "       index  SEND_SPG_INNB  ...  DL_GD_MCLS_NM INVC_CONT\n",
              "0          0   1.129000e+15  ...             상의         3\n",
              "1          1   1.135000e+15  ...           반려동물         3\n",
              "2          2   1.135000e+15  ...         기타패션의류         9\n",
              "3          3   1.154500e+15  ...            농산물        10\n",
              "4          4   1.165000e+15  ...           가공식품         3\n",
              "...      ...            ...  ...            ...       ...\n",
              "31995  31995   5.011000e+15  ...            농산물         6\n",
              "31996  31996   5.011000e+15  ...           기타식품         5\n",
              "31997  31997   5.011000e+15  ...            농산물         9\n",
              "31998  31998   5.011000e+15  ...            농산물         3\n",
              "31999  31999   5.011000e+15  ...            농산물         5\n",
              "\n",
              "[32000 rows x 6 columns]"
            ]
          },
          "metadata": {},
          "execution_count": 82
        }
      ]
    },
    {
      "cell_type": "code",
      "source": [
        "train.SEND_SPG_INNB.nunique(), train.REC_SPG_INNB.nunique()"
      ],
      "metadata": {
        "colab": {
          "base_uri": "https://localhost:8080/"
        },
        "id": "YmMvkkJrH3gS",
        "outputId": "6ce26ca6-8e2a-4f07-cdbf-84dadeca45d8"
      },
      "execution_count": null,
      "outputs": [
        {
          "output_type": "execute_result",
          "data": {
            "text/plain": [
              "(234, 251)"
            ]
          },
          "metadata": {},
          "execution_count": 86
        }
      ]
    },
    {
      "cell_type": "code",
      "source": [
        "test.SEND_SPG_INNB.nunique(), test.REC_SPG_INNB.nunique()"
      ],
      "metadata": {
        "colab": {
          "base_uri": "https://localhost:8080/"
        },
        "id": "DkKj7KESH_sJ",
        "outputId": "896388de-c818-4106-9d79-c7a6efc2d229"
      },
      "execution_count": null,
      "outputs": [
        {
          "output_type": "execute_result",
          "data": {
            "text/plain": [
              "(158, 247)"
            ]
          },
          "metadata": {},
          "execution_count": 87
        }
      ]
    },
    {
      "cell_type": "code",
      "source": [
        "plt.figure(figsize=(16,6))\n",
        "train[\"INVC_CONT\"].value_counts().plot(kind=\"bar\")"
      ],
      "metadata": {
        "colab": {
          "base_uri": "https://localhost:8080/",
          "height": 400
        },
        "id": "FSdPOF3aIE79",
        "outputId": "57546ca7-f348-49f4-c06a-3a5c41a1805a"
      },
      "execution_count": null,
      "outputs": [
        {
          "output_type": "execute_result",
          "data": {
            "text/plain": [
              "<matplotlib.axes._subplots.AxesSubplot at 0x7f9755e60150>"
            ]
          },
          "metadata": {},
          "execution_count": 92
        },
        {
          "output_type": "display_data",
          "data": {
            "image/png": "[encoded data removed]",
            "text/plain": [
              "<Figure size 1152x432 with 1 Axes>"
            ]
          },
          "metadata": {
            "needs_background": "light"
          }
        }
      ]
    },
    {
      "cell_type": "markdown",
      "source": [
        "## LightGBM"
      ],
      "metadata": {
        "id": "YManGweIbh2S"
      }
    },
    {
      "cell_type": "code",
      "source": [
        "from lightgbm import LGBMRegressor"
      ],
      "metadata": {
        "id": "PIRAmOjPbmwt"
      },
      "execution_count": null,
      "outputs": []
    },
    {
      "cell_type": "code",
      "source": [
        "X_train = train.drop([\"INVC_CONT\"], axis=1)\n",
        "y_train = train[\"INVC_CONT\"]"
      ],
      "metadata": {
        "id": "-A1FYSRmcgGK"
      },
      "execution_count": null,
      "outputs": []
    },
    {
      "cell_type": "code",
      "source": [
        "X_train = pd.get_dummies(X_train)\n",
        "X_test = pd.get_dummies(test)"
      ],
      "metadata": {
        "id": "WEG8v1LGbv9A"
      },
      "execution_count": null,
      "outputs": []
    },
    {
      "cell_type": "code",
      "source": [
        "scaler = MinMaxScaler()\n",
        "scaler.fit(X_train)\n",
        "X_train = scaler.transform(X_train)\n",
        "X_test = scaler.transform(X_test)"
      ],
      "metadata": {
        "id": "KQh5LskHcEcM"
      },
      "execution_count": null,
      "outputs": []
    },
    {
      "cell_type": "code",
      "source": [
        "lgb_params = {\n",
        "    \"learning_rate\":\n",
        "}"
      ],
      "metadata": {
        "id": "MjkVUGB-efNa"
      },
      "execution_count": null,
      "outputs": []
    },
    {
      "cell_type": "code",
      "source": [
        "model = LGBMRegressor()\n",
        "model.fit(X_train, y_train)"
      ],
      "metadata": {
        "colab": {
          "base_uri": "https://localhost:8080/"
        },
        "id": "qCwjNasecbSq",
        "outputId": "4b91008b-9be2-4570-c0bf-e90bde109371"
      },
      "execution_count": null,
      "outputs": [
        {
          "output_type": "execute_result",
          "data": {
            "text/plain": [
              "LGBMRegressor()"
            ]
          },
          "metadata": {},
          "execution_count": 160
        }
      ]
    },
    {
      "cell_type": "code",
      "source": [
        "model.train()"
      ],
      "metadata": {
        "colab": {
          "base_uri": "https://localhost:8080/",
          "height": 166
        },
        "id": "HQowC9m_c07H",
        "outputId": "78c08035-41a5-4ced-b0f8-24ac8d61a5e6"
      },
      "execution_count": null,
      "outputs": [
        {
          "output_type": "error",
          "ename": "AttributeError",
          "evalue": "ignored",
          "traceback": [
            "\u001b[0;31m---------------------------------------------------------------------------\u001b[0m",
            "\u001b[0;31mAttributeError\u001b[0m                            Traceback (most recent call last)",
            "\u001b[0;32m<ipython-input-161-c72315b99576>\u001b[0m in \u001b[0;36m<module>\u001b[0;34m()\u001b[0m\n\u001b[0;32m----> 1\u001b[0;31m \u001b[0mmodel\u001b[0m\u001b[0;34m.\u001b[0m\u001b[0mtrain\u001b[0m\u001b[0;34m(\u001b[0m\u001b[0;34m)\u001b[0m\u001b[0;34m\u001b[0m\u001b[0;34m\u001b[0m\u001b[0m\n\u001b[0m",
            "\u001b[0;31mAttributeError\u001b[0m: 'LGBMRegressor' object has no attribute 'train'"
          ]
        }
      ]
    },
    {
      "cell_type": "code",
      "source": [
        ""
      ],
      "metadata": {
        "id": "PHQhSg_DddRm"
      },
      "execution_count": null,
      "outputs": []
    }
  ]
}